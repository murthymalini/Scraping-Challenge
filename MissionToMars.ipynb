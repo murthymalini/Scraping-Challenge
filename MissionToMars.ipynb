{
 "cells": [
  {
   "cell_type": "code",
   "execution_count": 1,
   "metadata": {},
   "outputs": [],
   "source": [
    "from bs4 import BeautifulSoup\n",
    "from splinter import Browser\n",
    "import pandas as pd\n",
    "import requests\n",
    "import time"
   ]
  },
  {
   "cell_type": "code",
   "execution_count": 2,
   "metadata": {},
   "outputs": [],
   "source": [
    "# FOR WINDOWS USERS\n",
    "# importing google chrome driver\n",
    "executablePath = {'executable_path': 'chromedriver.exe'}\n",
    "browser = Browser('chrome', **executablePath, headless=False)"
   ]
  },
  {
   "cell_type": "code",
   "execution_count": 6,
   "metadata": {},
   "outputs": [],
   "source": [
    "# URL of Nasa\n",
    "url = \"https://mars.nasa.gov/news/\"\n",
    "\n",
    "# Retrieve page with requests\n",
    "browser.visit(url)\n",
    "\n",
    "# Store HTML OBJECT in a variable & then PARSE this page and store in a Soup variable\n",
    "html = browser.html\n",
    "soup = BeautifulSoup(html, 'html.parser')"
   ]
  },
  {
   "cell_type": "code",
   "execution_count": 7,
   "metadata": {},
   "outputs": [
    {
     "name": "stdout",
     "output_type": "stream",
     "text": [
      "*****PARAGRAPH TITLE*****\n",
      "NASA's Mars 2020 Heads Into the Test Chamber\n",
      "\n",
      "*****PARAGRAPH TEASER*****\n",
      "In this time-lapse video taken at JPL, engineers move the Mars 2020 rover into a large vacuum chamber for testing in Mars-like environmental conditions.\n"
     ]
    }
   ],
   "source": [
    "print('*****PARAGRAPH TITLE*****')\n",
    "title = soup.find('div', class_ = 'content_title').text\n",
    "print(title)\n",
    "print()\n",
    "print('*****PARAGRAPH TEASER*****')\n",
    "paragraph = soup.find('div', class_ = 'article_teaser_body').text\n",
    "print(paragraph)"
   ]
  },
  {
   "cell_type": "code",
   "execution_count": 8,
   "metadata": {},
   "outputs": [],
   "source": [
    "# Visit Mars Space Images through splinter module\n",
    "imageURL = 'https://www.jpl.nasa.gov/spaceimages/?search=&category=Mars'\n",
    "browser.visit(imageURL)"
   ]
  },
  {
   "cell_type": "code",
   "execution_count": 9,
   "metadata": {},
   "outputs": [
    {
     "data": {
      "text/plain": [
       "'https://www.jpl.nasa.gov/spaceimages/images/wallpaper/PIA18182-1920x1200.jpg'"
      ]
     },
     "execution_count": 9,
     "metadata": {},
     "output_type": "execute_result"
    }
   ],
   "source": [
    "# Store HTML OBJECT in a variable & then PARSE this page and store in a Soup variable\n",
    "htmlImage = browser.html\n",
    "soup = BeautifulSoup(htmlImage, 'html.parser')\n",
    "\n",
    "# Retrieve background-image url from the style tag \n",
    "featuredImageLink  = soup.find('article')['style'].replace('background-image: url(','').replace(');', '')[1:-1]\n",
    "\n",
    "# Base website Url \n",
    "mainURL = 'https://www.jpl.nasa.gov'\n",
    "\n",
    "# Join website url with scrapped route\n",
    "featuredImageLink = mainURL + featuredImageLink\n",
    "\n",
    "# Display full link to featured image\n",
    "featuredImageLink"
   ]
  },
  {
   "cell_type": "code",
   "execution_count": 10,
   "metadata": {},
   "outputs": [],
   "source": [
    "# Visit the URL for Mars weather Twitter using Splinter\n",
    "weatherURL = 'https://twitter.com/marswxreport?lang=en'\n",
    "browser.visit(weatherURL)"
   ]
  },
  {
   "cell_type": "code",
   "execution_count": 11,
   "metadata": {},
   "outputs": [
    {
     "name": "stdout",
     "output_type": "stream",
     "text": [
      "InSight sol 335 (2019-11-05) low -100.6ºC (-149.1ºF) high -24.3ºC (-11.8ºF)\n",
      "winds from the SSE at 4.9 m/s (10.9 mph) gusting to 19.9 m/s (44.5 mph)\n",
      "pressure at 6.90 hPa\n"
     ]
    }
   ],
   "source": [
    "# Store HTML OBJECT in a variable & then PARSE this page and store in a Soup variable\n",
    "htmlWeather = browser.html\n",
    "soup = BeautifulSoup(htmlWeather, 'html.parser')\n",
    "\n",
    "# Find all elements that contain tweets\n",
    "tweets = soup.find_all('div', class_='js-tweet-text-container')\n",
    "\n",
    "# Look for entries that display weather related words to treutn only weather tweet\n",
    "for tweet in tweets: \n",
    "    weatherTweet = tweet.find('p').text\n",
    "    if 'Sol' and 'pressure' in weatherTweet:\n",
    "        print(weatherTweet)\n",
    "        break\n",
    "    else: \n",
    "        pass"
   ]
  },
  {
   "cell_type": "code",
   "execution_count": 12,
   "metadata": {},
   "outputs": [
    {
     "data": {
      "text/html": [
       "<div>\n",
       "<style scoped>\n",
       "    .dataframe tbody tr th:only-of-type {\n",
       "        vertical-align: middle;\n",
       "    }\n",
       "\n",
       "    .dataframe tbody tr th {\n",
       "        vertical-align: top;\n",
       "    }\n",
       "\n",
       "    .dataframe thead th {\n",
       "        text-align: right;\n",
       "    }\n",
       "</style>\n",
       "<table border=\"1\" class=\"dataframe\">\n",
       "  <thead>\n",
       "    <tr style=\"text-align: right;\">\n",
       "      <th></th>\n",
       "      <th>Facts</th>\n",
       "    </tr>\n",
       "    <tr>\n",
       "      <th>Category</th>\n",
       "      <th></th>\n",
       "    </tr>\n",
       "  </thead>\n",
       "  <tbody>\n",
       "    <tr>\n",
       "      <th>Equatorial Diameter:</th>\n",
       "      <td>6,792 km</td>\n",
       "    </tr>\n",
       "    <tr>\n",
       "      <th>Polar Diameter:</th>\n",
       "      <td>6,752 km</td>\n",
       "    </tr>\n",
       "    <tr>\n",
       "      <th>Mass:</th>\n",
       "      <td>6.39 × 10^23 kg (0.11 Earths)</td>\n",
       "    </tr>\n",
       "    <tr>\n",
       "      <th>Moons:</th>\n",
       "      <td>2 (Phobos &amp; Deimos)</td>\n",
       "    </tr>\n",
       "    <tr>\n",
       "      <th>Orbit Distance:</th>\n",
       "      <td>227,943,824 km (1.38 AU)</td>\n",
       "    </tr>\n",
       "    <tr>\n",
       "      <th>Orbit Period:</th>\n",
       "      <td>687 days (1.9 years)</td>\n",
       "    </tr>\n",
       "    <tr>\n",
       "      <th>Surface Temperature:</th>\n",
       "      <td>-87 to -5 °C</td>\n",
       "    </tr>\n",
       "    <tr>\n",
       "      <th>First Record:</th>\n",
       "      <td>2nd millennium BC</td>\n",
       "    </tr>\n",
       "    <tr>\n",
       "      <th>Recorded By:</th>\n",
       "      <td>Egyptian astronomers</td>\n",
       "    </tr>\n",
       "  </tbody>\n",
       "</table>\n",
       "</div>"
      ],
      "text/plain": [
       "                                              Facts\n",
       "Category                                           \n",
       "Equatorial Diameter:                       6,792 km\n",
       "Polar Diameter:                            6,752 km\n",
       "Mass:                 6.39 × 10^23 kg (0.11 Earths)\n",
       "Moons:                          2 (Phobos & Deimos)\n",
       "Orbit Distance:            227,943,824 km (1.38 AU)\n",
       "Orbit Period:                  687 days (1.9 years)\n",
       "Surface Temperature:                   -87 to -5 °C\n",
       "First Record:                     2nd millennium BC\n",
       "Recorded By:                   Egyptian astronomers"
      ]
     },
     "execution_count": 12,
     "metadata": {},
     "output_type": "execute_result"
    }
   ],
   "source": [
    "# Visit Mars fact page\n",
    "factsURL = 'https://space-facts.com/mars/'\n",
    "\n",
    "# Use read_html function in Pandas to parse \n",
    "marsFacts = pd.read_html(factsURL)\n",
    "\n",
    "# check how many tables there are so you know what table index you need to pull\n",
    "#len(marsFacts)\n",
    "\n",
    "# Find the table with Mars facts (only table on the page)\n",
    "marsFactsDF = marsFacts[0]\n",
    "\n",
    "# Set the column headers for table on website\n",
    "marsFactsDF.columns = ['Category' , 'Facts']\n",
    "\n",
    "# Set index to Category of fact to drop the 0,1,2,3,4... index|\n",
    "marsFactsDF.set_index('Category', inplace=True)\n",
    "\n",
    "marsFactsDF"
   ]
  },
  {
   "cell_type": "code",
   "execution_count": 13,
   "metadata": {},
   "outputs": [],
   "source": [
    "# Visit URL with Mars Hemisphere images\n",
    "hemisURL = 'https://astrogeology.usgs.gov/search/results?q=hemisphere+enhanced&k1=target&v1=Mars'\n",
    "browser.visit(hemisURL)"
   ]
  },
  {
   "cell_type": "code",
   "execution_count": 14,
   "metadata": {},
   "outputs": [
    {
     "data": {
      "text/plain": [
       "[{'title': 'Cerberus Hemisphere Enhanced',\n",
       "  'img_url': 'https://astrogeology.usgs.gov/cache/images/cfa62af2557222a02478f1fcd781d445_cerberus_enhanced.tif_full.jpg'},\n",
       " {'title': 'Schiaparelli Hemisphere Enhanced',\n",
       "  'img_url': 'https://astrogeology.usgs.gov/cache/images/3cdd1cbf5e0813bba925c9030d13b62e_schiaparelli_enhanced.tif_full.jpg'},\n",
       " {'title': 'Syrtis Major Hemisphere Enhanced',\n",
       "  'img_url': 'https://astrogeology.usgs.gov/cache/images/ae209b4e408bb6c3e67b6af38168cf28_syrtis_major_enhanced.tif_full.jpg'},\n",
       " {'title': 'Valles Marineris Hemisphere Enhanced',\n",
       "  'img_url': 'https://astrogeology.usgs.gov/cache/images/7cf2da4bf549ed01c17f206327be4db7_valles_marineris_enhanced.tif_full.jpg'}]"
      ]
     },
     "execution_count": 14,
     "metadata": {},
     "output_type": "execute_result"
    }
   ],
   "source": [
    "# Store HTML OBJECT in a variable & then PARSE this page and store in a Soup variable\n",
    "htmlHemis = browser.html\n",
    "soup = BeautifulSoup(htmlHemis, 'html.parser')\n",
    "\n",
    "# Retreive all of the <div class='item'> that contain Mars hemispheres information\n",
    "hemisItems = soup.find_all('div', class_='item')\n",
    "\n",
    "# Create empty list for hemisphere urls \n",
    "hemisImageURLs = []\n",
    "\n",
    "# Store the mainURL of the page with all 4 of the relevant links we want to gather\n",
    "# The 'a' tag in the div class=item is only the tail of each individual page\n",
    "hemisMainURLs = 'https://astrogeology.usgs.gov'\n",
    "\n",
    "# Loop through the items previously stored\n",
    "for hemi in hemisItems: \n",
    "    # Store name of Hemisphere\n",
    "    name = hemi.find('h3').text\n",
    "    \n",
    "    # Store partial link that leads to full image website (again only a partial link provided)\n",
    "    partialImgURL = hemi.find('a', class_='itemLink product-item')['href']\n",
    "    \n",
    "    # Visit the link that combines partial link the full image website \n",
    "    browser.visit(hemisMainURLs + partialImgURL)\n",
    "    \n",
    "    # HTML Object of individual hemisphere information website \n",
    "    partialImgURL = browser.html\n",
    "    \n",
    "    # Parse HTML with BeautifulSoup for every individual hemisphere information website as we loop through\n",
    "    soup = BeautifulSoup(partialImgURL, 'html.parser')\n",
    "    \n",
    "    # Retrieve full image direct links\n",
    "    imgURL = hemisMainURLs + soup.find('img', class_='wide-image')['src']\n",
    "    \n",
    "    # Append the retreived information into a list of dictionaries defined above as hemisImageURLs\n",
    "    hemisImageURLs.append({\"title\" : name, \"img_url\" : imgURL})\n",
    "    time.sleep(5)\n",
    "    \n",
    "\n",
    "# Display hemisImageURLs list of dictionaries\n",
    "hemisImageURLs"
   ]
  },
  {
   "cell_type": "code",
   "execution_count": 15,
   "metadata": {},
   "outputs": [
    {
     "name": "stderr",
     "output_type": "stream",
     "text": [
      "[NbConvertApp] Converting notebook missionToMars.ipynb to script\n",
      "[NbConvertApp] Writing 4767 bytes to missionToMars.py\n"
     ]
    }
   ],
   "source": [
    "# Convert IPythonNoteBook into .py file\n",
    "!jupyter nbconvert --to script missionToMars.ipynb"
   ]
  },
  {
   "cell_type": "code",
   "execution_count": null,
   "metadata": {},
   "outputs": [],
   "source": []
  }
 ],
 "metadata": {
  "kernelspec": {
   "display_name": "Python 3",
   "language": "python",
   "name": "python3"
  },
  "language_info": {
   "codemirror_mode": {
    "name": "ipython",
    "version": 3
   },
   "file_extension": ".py",
   "mimetype": "text/x-python",
   "name": "python",
   "nbconvert_exporter": "python",
   "pygments_lexer": "ipython3",
   "version": "3.6.9"
  }
 },
 "nbformat": 4,
 "nbformat_minor": 2
}
